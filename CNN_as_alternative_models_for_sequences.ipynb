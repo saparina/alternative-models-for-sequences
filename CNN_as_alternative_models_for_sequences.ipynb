{
 "cells": [
  {
   "cell_type": "markdown",
   "metadata": {},
   "source": [
    "<h1> <center> CNN: альтернативные нейросетевые модели <br> для последовательных данных </center></h1>"
   ]
  },
  {
   "cell_type": "markdown",
   "metadata": {},
   "source": [
    "Рассмотрим применение свёрточных нейросетей к последовательным данным на примере моделей [TCN](https://arxiv.org/pdf/1803.01271.pdf) и [GatedCNN](https://arxiv.org/pdf/1612.08083.pdf) и сравним их с классическим подходом в виде LSTM."
   ]
  },
  {
   "cell_type": "markdown",
   "metadata": {},
   "source": [
    "Рассматривается задача word language modeling - научиться предсказывать слово по его контексту: $p(y^{t+1}|y^{1}, \\dots, y^{t})$\n",
    "\n",
    "Качество измеряется перплексией: $ppl = \\prod\\limits_{t=1}^T \\Big(\\dfrac{1}{\\sum_{j=1}^{|V|} y_j^t \\hat y_j^t  } \\Big)$, где $T$ - число слов, $V$ - размер словаря"
   ]
  },
  {
   "cell_type": "code",
   "execution_count": 1,
   "metadata": {},
   "outputs": [],
   "source": [
    "import os\n",
    "\n",
    "import torch\n",
    "from torch import nn\n",
    "import torch.nn.functional as F\n",
    "import torch.optim as optim\n",
    "import numpy as np\n",
    "from torch.autograd import Variable\n",
    "\n",
    "from time import time\n",
    "from data import *\n",
    "\n",
    "import matplotlib.pyplot as plt\n",
    "import seaborn as sns\n",
    "%matplotlib inline"
   ]
  },
  {
   "cell_type": "code",
   "execution_count": 2,
   "metadata": {},
   "outputs": [],
   "source": [
    "# настройка внешнего вида графиков в seaborn\n",
    "sns.set_context(\n",
    "    \"notebook\", \n",
    "    font_scale = 1.5,       \n",
    "    rc = { \n",
    "        \"figure.figsize\" : (10, 5), \n",
    "        \"axes.titlesize\" : 18 \n",
    "    }\n",
    ")\n",
    "sns.set_style(\"whitegrid\", {'axes.grid' : False})"
   ]
  },
  {
   "cell_type": "markdown",
   "metadata": {},
   "source": [
    "Загружаем датасет Penn Tree Bank"
   ]
  },
  {
   "cell_type": "code",
   "execution_count": 3,
   "metadata": {},
   "outputs": [],
   "source": [
    "corpus = Corpus('./data', rare_limit=1)\n",
    "# длина последовательности\n",
    "sequence_length = 80"
   ]
  },
  {
   "cell_type": "code",
   "execution_count": 4,
   "metadata": {},
   "outputs": [],
   "source": [
    "# размер батча для обучения\n",
    "batch_size = 16\n",
    "# размер батча для валидации и теста\n",
    "eval_batch_size = 10\n",
    "train_data = batchify(corpus.train, batch_size)\n",
    "val_data = batchify(corpus.valid, eval_batch_size)\n",
    "test_data = batchify(corpus.test, eval_batch_size)"
   ]
  },
  {
   "cell_type": "code",
   "execution_count": 5,
   "metadata": {},
   "outputs": [
    {
     "data": {
      "text/plain": [
       "(torch.Size([16, 80]), torch.Size([16, 80]))"
      ]
     },
     "execution_count": 5,
     "metadata": {},
     "output_type": "execute_result"
    }
   ],
   "source": [
    "data, targets = get_batch(train_data, 0, sequence_length)\n",
    "data.shape, targets.shape"
   ]
  },
  {
   "cell_type": "code",
   "execution_count": 6,
   "metadata": {},
   "outputs": [
    {
     "data": {
      "text/plain": [
       "torch.Size([16, 58099])"
      ]
     },
     "execution_count": 6,
     "metadata": {},
     "output_type": "execute_result"
    }
   ],
   "source": [
    "train_data.shape"
   ]
  },
  {
   "cell_type": "code",
   "execution_count": 7,
   "metadata": {},
   "outputs": [
    {
     "data": {
      "text/plain": [
       "0"
      ]
     },
     "execution_count": 7,
     "metadata": {},
     "output_type": "execute_result"
    }
   ],
   "source": [
    "pad_idx = corpus.dictionary.word2idx['<pad>']\n",
    "pad_idx"
   ]
  },
  {
   "cell_type": "markdown",
   "metadata": {},
   "source": [
    "Размер словаря"
   ]
  },
  {
   "cell_type": "code",
   "execution_count": 8,
   "metadata": {},
   "outputs": [
    {
     "data": {
      "text/plain": [
       "10001"
      ]
     },
     "execution_count": 8,
     "metadata": {},
     "output_type": "execute_result"
    }
   ],
   "source": [
    "vocab_size = len(corpus.dictionary)\n",
    "vocab_size"
   ]
  },
  {
   "cell_type": "markdown",
   "metadata": {},
   "source": [
    "## Gated CNN"
   ]
  },
  {
   "cell_type": "code",
   "execution_count": 9,
   "metadata": {},
   "outputs": [],
   "source": [
    "class GatedCNN(nn.Module):\n",
    "    '''\n",
    "    Модель на основе GLU и masked свёрток, в основе статья \n",
    "    \"Language Modeling with Gated Convolutional Networks\".\n",
    "    '''\n",
    "    def __init__(self, vocab_size, embed_dim=128,\n",
    "                 convs_params=((300, 4),) * 3, num_residual = 2):\n",
    "        '''\n",
    "        Параметры:\n",
    "        vocab_size: размер словаря\n",
    "        embed_dim: размерность эмбеддингов\n",
    "        convs_params: параметры свёрток, список из элементов (разменость выходного канала, размер фильтра)\n",
    "        num_residual: число residual connections   \n",
    "        '''\n",
    "        super(GatedCNN, self).__init__()\n",
    "        \n",
    "        self.num_residual = num_residual\n",
    "        \n",
    "        self.embeddings = nn.Embedding(vocab_size, embed_dim, padding_idx=pad_idx)\n",
    "        \n",
    "        in_channels = embed_dim\n",
    "        self.convolutions = nn.ModuleList()\n",
    "        for (out_channels, kernel_size) in convs_params:\n",
    "            # padding для masked свёртки\n",
    "            pad = (kernel_size - 1)                \n",
    "            self.convolutions.append(\n",
    "                nn.utils.weight_norm(nn.Conv1d(in_channels, out_channels * 2, kernel_size, padding=pad)))\n",
    "            in_channels = out_channels\n",
    "            \n",
    "        self.fc = nn.Linear(out_channels, vocab_size)        \n",
    "        # для residual connection между слоями с разными разменостями\n",
    "        self.proj = nn.Conv1d(embed_dim, out_channels, 1)\n",
    "        self.init_weights()\n",
    "\n",
    "    def init_weights(self):\n",
    "        for conv in self.convolutions:\n",
    "            conv.weight.data.normal_(0, 0.01)  \n",
    "        \n",
    "        self.embeddings.weight.data.normal_(0, 0.01)\n",
    "        self.fc.weight.data.normal_(0, 0.01)\n",
    "        self.fc.bias.data.fill_(0)\n",
    "        \n",
    "    def forward(self, x):\n",
    "        # x размера (batch_size, sequence_len)\n",
    "        batch_size, sequence_len = x.shape\n",
    "        \n",
    "        # слой эмбеддингов\n",
    "        out = self.embeddings(x) # x размера (batch_size, sequence_len, embed_size) \n",
    "        \n",
    "        # транспонируем для дальнейших свёрток\n",
    "        out = out.transpose(1, 2) # x размера (batch_size, embed_size, sequence_len)\n",
    "        \n",
    "        residual = self.proj(out)\n",
    "        # cсвёртки\n",
    "        for i, conv in enumerate(self.convolutions):\n",
    "            out = conv(out)\n",
    "            # GLU\n",
    "            out = F.glu(out, dim=1)[..., :sequence_len]\n",
    "            \n",
    "            # residual connection\n",
    "            if i % self.num_residual == 0:\n",
    "                out += residual\n",
    "                residual = out\n",
    "       \n",
    "        out = out[..., :sequence_len]\n",
    "        out = out.transpose(1, 2) # x размера (batch_size, sequence_len, embed_size)\n",
    "        out = self.fc(out)\n",
    "        return out.contiguous()"
   ]
  },
  {
   "cell_type": "markdown",
   "metadata": {},
   "source": [
    "Обучение модели"
   ]
  },
  {
   "cell_type": "code",
   "execution_count": 10,
   "metadata": {},
   "outputs": [],
   "source": [
    "def train(model, num_epoch, clip=0.1, print_every=100):\n",
    "    model.train()\n",
    "    all_loss = []\n",
    "    all_time = []\n",
    "    \n",
    "    total_loss = 0\n",
    "    start_time = time()\n",
    "    \n",
    "    if model.__class__.__name__ == 'LSTM':\n",
    "        h = model.init_hidden(batch_size)\n",
    "        \n",
    "    for batch_idx, i in enumerate(range(0, train_data.size(1) - 1, sequence_length // 2)):\n",
    "        data, targets = get_batch(train_data, i, sequence_length)\n",
    "        optimizer.zero_grad()\n",
    "        if model.__class__.__name__ == 'LSTM':\n",
    "            # сохраняем в отдельную переменную, чтобы не пересчитывать всю историю\n",
    "            h = (Variable(h[0].data), Variable(h[1].data))\n",
    "            output, h = model(data, h)\n",
    "        else:\n",
    "            output = model(data)\n",
    "\n",
    "        final_target = targets.contiguous().view(-1)\n",
    "        final_output = output.contiguous().view(-1, vocab_size)\n",
    "        loss = criterion(final_output, final_target)\n",
    "\n",
    "        loss.backward()\n",
    "        if clip > 0:\n",
    "            # обрезаем градиенты\n",
    "            torch.nn.utils.clip_grad_norm(model.parameters(), clip)\n",
    "        optimizer.step()\n",
    "\n",
    "        total_loss += loss.data\n",
    "\n",
    "        if batch_idx % print_every == 0 and batch_idx > 0:\n",
    "            all_loss.append(total_loss[0] / print_every)\n",
    "            all_time.append(time() - start_time)\n",
    "            print('epoch {:3d} | {:5d}/{:5d} batches |  ms/batch {:5.5f} | loss {:5.2f} | ppl {:8.2f}'.format(\n",
    "                                                num_epoch, batch_idx, 2 * train_data.size(1) // sequence_length, \n",
    "                                                all_time[-1] / print_every, all_loss[-1], np.exp(all_loss[-1])))\n",
    "            total_loss = 0\n",
    "            start_time = time()\n",
    "    return all_loss, all_time"
   ]
  },
  {
   "cell_type": "code",
   "execution_count": 11,
   "metadata": {},
   "outputs": [],
   "source": [
    "def evaluation(model, eval_data):\n",
    "    model.eval()\n",
    "    total_loss = 0\n",
    "    \n",
    "    if model.__class__.__name__ == 'LSTM':\n",
    "        h = model.init_hidden(eval_batch_size)\n",
    "        \n",
    "    for batch_idx, i in enumerate(range(0, eval_data.size(1) - 1, sequence_length // 2)):\n",
    "        data, targets = get_batch(eval_data, i, sequence_length)\n",
    "        optimizer.zero_grad()\n",
    "        if model.__class__.__name__ == 'LSTM':\n",
    "            # сохраняем в отдельную переменную, чтобы не пересчитывать всю историю\n",
    "            h = (Variable(h[0].data), Variable(h[1].data))\n",
    "            output, h = model(data, h)\n",
    "        else:\n",
    "            output = model(data)\n",
    "\n",
    "        final_target = targets.contiguous().view(-1)\n",
    "        final_output = output.contiguous().view(-1, vocab_size)\n",
    "        loss = criterion(final_output, final_target)\n",
    "        total_loss += loss.data[0]\n",
    "    return total_loss / batch_idx"
   ]
  },
  {
   "cell_type": "code",
   "execution_count": 12,
   "metadata": {},
   "outputs": [],
   "source": [
    "def train_model(model, lr= 0.001, clip=0.1, print_every=500):\n",
    "    all_loss = []\n",
    "    all_times = []\n",
    "    val_losses = []\n",
    "    epoch_time = []\n",
    "    \n",
    "    for num_epoch in range(1, epochs + 1):\n",
    "        epoch_start_time = time()\n",
    "        \n",
    "        losses, times = train(model, num_epoch, clip=clip, print_every=print_every)\n",
    "        all_loss.append(losses)\n",
    "        all_times.append(times)\n",
    "        epoch_time.append(time() - epoch_start_time)\n",
    "        # валидация\n",
    "        val_loss = evaluation(model, val_data)\n",
    "        val_losses.append(val_loss)\n",
    "        print('-' * 85)\n",
    "        print(' end of epoch {:3d}  time for epoch: {:5.2f}  valid loss {:5.2f}  valid ppl {:8.2f}'.format(\n",
    "                                                            num_epoch, epoch_time[-1], val_loss, np.exp(val_loss)))\n",
    "        print('-' * 85)\n",
    "        \n",
    "        # Уменьшаем lr, если качество на валидации перестаёт улучшаться\n",
    "        if num_epoch > 5 and val_loss >= max(val_losses[-3:]):\n",
    "            lr = lr / 4.\n",
    "            for param_group in optimizer.param_groups:\n",
    "                param_group['lr'] = lr\n",
    "    return all_loss, all_times, val_losses, epoch_time"
   ]
  },
  {
   "cell_type": "code",
   "execution_count": 13,
   "metadata": {},
   "outputs": [],
   "source": [
    "def count_params(model):\n",
    "    '''\n",
    "    Вычисляет число параметров модели\n",
    "    '''\n",
    "    model_parameters = filter(lambda p: p.requires_grad, model.parameters())\n",
    "    params = sum([np.prod(p.size()) for p in model_parameters])\n",
    "    return params"
   ]
  },
  {
   "cell_type": "code",
   "execution_count": 14,
   "metadata": {},
   "outputs": [],
   "source": [
    "epochs = 20\n",
    "criterion = nn.CrossEntropyLoss()\n",
    "lr = 0.0001"
   ]
  },
  {
   "cell_type": "code",
   "execution_count": 15,
   "metadata": {},
   "outputs": [
    {
     "data": {
      "text/plain": [
       "6079929"
      ]
     },
     "execution_count": 15,
     "metadata": {},
     "output_type": "execute_result"
    }
   ],
   "source": [
    "gated_model = GatedCNN(vocab_size).cuda()\n",
    "optimizer = optim.Adam(gated_model.parameters(), lr=lr) \n",
    "count_params(gated_model)"
   ]
  },
  {
   "cell_type": "code",
   "execution_count": 16,
   "metadata": {
    "scrolled": true
   },
   "outputs": [
    {
     "name": "stdout",
     "output_type": "stream",
     "text": [
      "epoch   1 |   500/ 1452 batches |  ms/batch 0.01337 | loss  6.85 | ppl   940.06\n",
      "epoch   1 |  1000/ 1452 batches |  ms/batch 0.01076 | loss  6.37 | ppl   582.86\n",
      "-------------------------------------------------------------------------------------\n",
      " end of epoch   1  time for epoch: 16.80  valid loss  6.16  valid ppl   475.50\n",
      "-------------------------------------------------------------------------------------\n",
      "epoch   2 |   500/ 1452 batches |  ms/batch 0.01108 | loss  6.05 | ppl   422.53\n",
      "epoch   2 |  1000/ 1452 batches |  ms/batch 0.01060 | loss  5.94 | ppl   381.06\n",
      "-------------------------------------------------------------------------------------\n",
      " end of epoch   2  time for epoch: 15.69  valid loss  5.93  valid ppl   377.81\n",
      "-------------------------------------------------------------------------------------\n",
      "epoch   3 |   500/ 1452 batches |  ms/batch 0.01095 | loss  5.78 | ppl   324.19\n",
      "epoch   3 |  1000/ 1452 batches |  ms/batch 0.01089 | loss  5.67 | ppl   289.69\n",
      "-------------------------------------------------------------------------------------\n",
      " end of epoch   3  time for epoch: 15.89  valid loss  5.71  valid ppl   302.29\n",
      "-------------------------------------------------------------------------------------\n",
      "epoch   4 |   500/ 1452 batches |  ms/batch 0.01075 | loss  5.50 | ppl   244.79\n",
      "epoch   4 |  1000/ 1452 batches |  ms/batch 0.01142 | loss  5.41 | ppl   223.96\n",
      "-------------------------------------------------------------------------------------\n",
      " end of epoch   4  time for epoch: 16.10  valid loss  5.59  valid ppl   268.43\n",
      "-------------------------------------------------------------------------------------\n",
      "epoch   5 |   500/ 1452 batches |  ms/batch 0.01098 | loss  5.32 | ppl   203.47\n",
      "epoch   5 |  1000/ 1452 batches |  ms/batch 0.01097 | loss  5.25 | ppl   189.62\n",
      "-------------------------------------------------------------------------------------\n",
      " end of epoch   5  time for epoch: 15.92  valid loss  5.52  valid ppl   250.56\n",
      "-------------------------------------------------------------------------------------\n",
      "epoch   6 |   500/ 1452 batches |  ms/batch 0.01129 | loss  5.17 | ppl   175.09\n",
      "epoch   6 |  1000/ 1452 batches |  ms/batch 0.01134 | loss  5.09 | ppl   162.91\n",
      "-------------------------------------------------------------------------------------\n",
      " end of epoch   6  time for epoch: 16.31  valid loss  5.47  valid ppl   236.84\n",
      "-------------------------------------------------------------------------------------\n",
      "epoch   7 |   500/ 1452 batches |  ms/batch 0.01146 | loss  5.03 | ppl   152.25\n",
      "epoch   7 |  1000/ 1452 batches |  ms/batch 0.01107 | loss  4.96 | ppl   142.54\n",
      "-------------------------------------------------------------------------------------\n",
      " end of epoch   7  time for epoch: 16.38  valid loss  5.45  valid ppl   231.81\n",
      "-------------------------------------------------------------------------------------\n",
      "epoch   8 |   500/ 1452 batches |  ms/batch 0.01114 | loss  4.91 | ppl   135.49\n",
      "epoch   8 |  1000/ 1452 batches |  ms/batch 0.01097 | loss  4.85 | ppl   127.43\n",
      "-------------------------------------------------------------------------------------\n",
      " end of epoch   8  time for epoch: 16.05  valid loss  5.45  valid ppl   231.89\n",
      "-------------------------------------------------------------------------------------\n",
      "epoch   9 |   500/ 1452 batches |  ms/batch 0.01116 | loss  4.81 | ppl   122.57\n",
      "epoch   9 |  1000/ 1452 batches |  ms/batch 0.01106 | loss  4.75 | ppl   115.58\n",
      "-------------------------------------------------------------------------------------\n",
      " end of epoch   9  time for epoch: 16.08  valid loss  5.46  valid ppl   235.03\n",
      "-------------------------------------------------------------------------------------\n",
      "epoch  10 |   500/ 1452 batches |  ms/batch 0.01117 | loss  4.73 | ppl   113.37\n",
      "epoch  10 |  1000/ 1452 batches |  ms/batch 0.01096 | loss  4.63 | ppl   102.52\n",
      "-------------------------------------------------------------------------------------\n",
      " end of epoch  10  time for epoch: 16.15  valid loss  5.47  valid ppl   237.12\n",
      "-------------------------------------------------------------------------------------\n",
      "epoch  11 |   500/ 1452 batches |  ms/batch 0.01119 | loss  4.71 | ppl   111.19\n",
      "epoch  11 |  1000/ 1452 batches |  ms/batch 0.01089 | loss  4.60 | ppl    99.66\n",
      "-------------------------------------------------------------------------------------\n",
      " end of epoch  11  time for epoch: 16.06  valid loss  5.44  valid ppl   229.76\n",
      "-------------------------------------------------------------------------------------\n",
      "epoch  12 |   500/ 1452 batches |  ms/batch 0.01113 | loss  4.68 | ppl   107.67\n",
      "epoch  12 |  1000/ 1452 batches |  ms/batch 0.01090 | loss  4.58 | ppl    97.47\n",
      "-------------------------------------------------------------------------------------\n",
      " end of epoch  12  time for epoch: 16.07  valid loss  5.44  valid ppl   230.87\n",
      "-------------------------------------------------------------------------------------\n",
      "epoch  13 |   500/ 1452 batches |  ms/batch 0.01118 | loss  4.66 | ppl   106.01\n",
      "epoch  13 |  1000/ 1452 batches |  ms/batch 0.01126 | loss  4.57 | ppl    96.29\n",
      "-------------------------------------------------------------------------------------\n",
      " end of epoch  13  time for epoch: 16.24  valid loss  5.45  valid ppl   232.18\n",
      "-------------------------------------------------------------------------------------\n",
      "epoch  14 |   500/ 1452 batches |  ms/batch 0.01105 | loss  4.67 | ppl   106.48\n",
      "epoch  14 |  1000/ 1452 batches |  ms/batch 0.01135 | loss  4.56 | ppl    95.47\n",
      "-------------------------------------------------------------------------------------\n",
      " end of epoch  14  time for epoch: 16.33  valid loss  5.44  valid ppl   230.76\n",
      "-------------------------------------------------------------------------------------\n",
      "epoch  15 |   500/ 1452 batches |  ms/batch 0.01155 | loss  4.66 | ppl   105.23\n",
      "epoch  15 |  1000/ 1452 batches |  ms/batch 0.01149 | loss  4.55 | ppl    94.89\n",
      "-------------------------------------------------------------------------------------\n",
      " end of epoch  15  time for epoch: 16.63  valid loss  5.44  valid ppl   230.64\n",
      "-------------------------------------------------------------------------------------\n",
      "epoch  16 |   500/ 1452 batches |  ms/batch 0.01145 | loss  4.65 | ppl   104.50\n",
      "epoch  16 |  1000/ 1452 batches |  ms/batch 0.01137 | loss  4.55 | ppl    94.53\n",
      "-------------------------------------------------------------------------------------\n",
      " end of epoch  16  time for epoch: 16.50  valid loss  5.44  valid ppl   230.80\n",
      "-------------------------------------------------------------------------------------\n",
      "epoch  17 |   500/ 1452 batches |  ms/batch 0.01126 | loss  4.65 | ppl   104.42\n",
      "epoch  17 |  1000/ 1452 batches |  ms/batch 0.01135 | loss  4.54 | ppl    94.15\n",
      "-------------------------------------------------------------------------------------\n",
      " end of epoch  17  time for epoch: 16.52  valid loss  5.44  valid ppl   230.73\n",
      "-------------------------------------------------------------------------------------\n",
      "epoch  18 |   500/ 1452 batches |  ms/batch 0.01134 | loss  4.65 | ppl   104.20\n",
      "epoch  18 |  1000/ 1452 batches |  ms/batch 0.01127 | loss  4.54 | ppl    94.05\n",
      "-------------------------------------------------------------------------------------\n",
      " end of epoch  18  time for epoch: 16.46  valid loss  5.44  valid ppl   230.72\n",
      "-------------------------------------------------------------------------------------\n",
      "epoch  19 |   500/ 1452 batches |  ms/batch 0.01140 | loss  4.64 | ppl   104.01\n",
      "epoch  19 |  1000/ 1452 batches |  ms/batch 0.01165 | loss  4.54 | ppl    93.97\n",
      "-------------------------------------------------------------------------------------\n",
      " end of epoch  19  time for epoch: 16.65  valid loss  5.44  valid ppl   230.74\n",
      "-------------------------------------------------------------------------------------\n",
      "epoch  20 |   500/ 1452 batches |  ms/batch 0.01133 | loss  4.64 | ppl   103.95\n",
      "epoch  20 |  1000/ 1452 batches |  ms/batch 0.01180 | loss  4.54 | ppl    93.86\n",
      "-------------------------------------------------------------------------------------\n",
      " end of epoch  20  time for epoch: 16.85  valid loss  5.44  valid ppl   230.75\n",
      "-------------------------------------------------------------------------------------\n"
     ]
    }
   ],
   "source": [
    "gated_all_loss, gated_all_times, gated_val_losses, gated_epoch_time = train_model(gated_model, lr)"
   ]
  },
  {
   "cell_type": "code",
   "execution_count": 17,
   "metadata": {},
   "outputs": [
    {
     "data": {
      "text/plain": [
       "(5.351720036812199, 210.97086361578897)"
      ]
     },
     "execution_count": 17,
     "metadata": {},
     "output_type": "execute_result"
    }
   ],
   "source": [
    "test_loss = evaluation(gated_model, test_data)\n",
    "test_loss, np.exp(test_loss)"
   ]
  },
  {
   "cell_type": "markdown",
   "metadata": {},
   "source": [
    "## LSTM"
   ]
  },
  {
   "cell_type": "code",
   "execution_count": 18,
   "metadata": {},
   "outputs": [],
   "source": [
    "class LSTM(nn.Module):\n",
    "    def __init__(self, vocab_size, embed_dim=128, n_hidden=256, n_layers=2, drop_rate=0.1):\n",
    "        '''\n",
    "        Параметры:\n",
    "        vocab_size: размер словаря\n",
    "        embed_dim: размерность эмбеддингов\n",
    "        n_hidden: размерность скрытого слоя\n",
    "        n_layers: число реккурентных слоёв\n",
    "        drop_rate: dropout rate \n",
    "        '''\n",
    "        super().__init__()\n",
    "        self.drop_rate = drop_rate\n",
    "        self.n_layers = n_layers\n",
    "        self.n_hidden = n_hidden\n",
    "        \n",
    "        self.embeddings = nn.Embedding(vocab_size, embed_dim, padding_idx=pad_idx)\n",
    "        self.dropout = nn.Dropout(drop_rate)\n",
    "        self.lstm = nn.LSTM(embed_dim, n_hidden, n_layers, dropout=drop_rate, batch_first=True)\n",
    "        self.fc = nn.Linear(n_hidden, vocab_size)\n",
    "        \n",
    "        self.init_weights()\n",
    "        \n",
    "    def forward(self, x, hc):\n",
    "        '''\n",
    "        Параметры:\n",
    "        x: текущие данные\n",
    "        hc: прошлый скрытый слой\n",
    "        '''\n",
    "        out = self.embeddings(x)        \n",
    "        out, h = self.lstm(out, hc)\n",
    "        out = self.dropout(out)\n",
    "        \n",
    "        # Соединяем выходы слоёв LSTM\n",
    "        out = out.view(out.size()[0]*out.size()[1], self.n_hidden)\n",
    "        \n",
    "        out = self.fc(out)        \n",
    "        return out, h\n",
    "\n",
    "    \n",
    "    def init_weights(self):       \n",
    "        initrange = 0.1\n",
    "        self.fc.bias.data.fill_(0)\n",
    "        self.fc.weight.data.uniform_(-1, 1)\n",
    "        \n",
    "    def init_hidden(self, sequence_len):\n",
    "        ''' \n",
    "        Инициализация скрытого состояния и состояния ячейки\n",
    "        Параметры:\n",
    "        sequence_len: длина последовательности\n",
    "        '''\n",
    "        weight = next(self.parameters()).data\n",
    "        return (Variable(weight.new(self.n_layers, sequence_len, self.n_hidden).zero_()),\n",
    "                Variable(weight.new(self.n_layers, sequence_len, self.n_hidden).zero_()))"
   ]
  },
  {
   "cell_type": "code",
   "execution_count": 19,
   "metadata": {
    "scrolled": true
   },
   "outputs": [
    {
     "data": {
      "text/plain": [
       "4771985"
      ]
     },
     "execution_count": 19,
     "metadata": {},
     "output_type": "execute_result"
    }
   ],
   "source": [
    "lstm_model = LSTM(vocab_size).cuda()\n",
    "optimizer = optim.Adam(lstm_model.parameters(), lr=lr) \n",
    "count_params(lstm_model)"
   ]
  },
  {
   "cell_type": "code",
   "execution_count": 20,
   "metadata": {
    "scrolled": true
   },
   "outputs": [
    {
     "name": "stdout",
     "output_type": "stream",
     "text": [
      "epoch   1 |   500/ 1452 batches |  ms/batch 0.01750 | loss  7.44 | ppl  1703.00\n",
      "epoch   1 |  1000/ 1452 batches |  ms/batch 0.01734 | loss  6.56 | ppl   703.23\n",
      "-------------------------------------------------------------------------------------\n",
      " end of epoch   1  time for epoch: 27.30  valid loss  6.14  valid ppl   464.70\n",
      "-------------------------------------------------------------------------------------\n",
      "epoch   2 |   500/ 1452 batches |  ms/batch 0.01779 | loss  6.16 | ppl   473.68\n",
      "epoch   2 |  1000/ 1452 batches |  ms/batch 0.01788 | loss  6.08 | ppl   435.23\n",
      "-------------------------------------------------------------------------------------\n",
      " end of epoch   2  time for epoch: 26.49  valid loss  5.91  valid ppl   367.10\n",
      "-------------------------------------------------------------------------------------\n",
      "epoch   3 |   500/ 1452 batches |  ms/batch 0.01809 | loss  5.94 | ppl   379.44\n",
      "epoch   3 |  1000/ 1452 batches |  ms/batch 0.01756 | loss  5.89 | ppl   360.26\n",
      "-------------------------------------------------------------------------------------\n",
      " end of epoch   3  time for epoch: 25.93  valid loss  5.77  valid ppl   320.42\n",
      "-------------------------------------------------------------------------------------\n",
      "epoch   4 |   500/ 1452 batches |  ms/batch 0.02266 | loss  5.79 | ppl   326.89\n",
      "epoch   4 |  1000/ 1452 batches |  ms/batch 0.01702 | loss  5.75 | ppl   313.41\n",
      "-------------------------------------------------------------------------------------\n",
      " end of epoch   4  time for epoch: 27.70  valid loss  5.67  valid ppl   289.20\n",
      "-------------------------------------------------------------------------------------\n",
      "epoch   5 |   500/ 1452 batches |  ms/batch 0.01799 | loss  5.67 | ppl   290.30\n",
      "epoch   5 |  1000/ 1452 batches |  ms/batch 0.01685 | loss  5.63 | ppl   279.30\n",
      "-------------------------------------------------------------------------------------\n",
      " end of epoch   5  time for epoch: 24.79  valid loss  5.58  valid ppl   265.29\n",
      "-------------------------------------------------------------------------------------\n",
      "epoch   6 |   500/ 1452 batches |  ms/batch 0.01651 | loss  5.57 | ppl   261.40\n",
      "epoch   6 |  1000/ 1452 batches |  ms/batch 0.01692 | loss  5.53 | ppl   252.45\n",
      "-------------------------------------------------------------------------------------\n",
      " end of epoch   6  time for epoch: 24.59  valid loss  5.51  valid ppl   246.62\n",
      "-------------------------------------------------------------------------------------\n",
      "epoch   7 |   500/ 1452 batches |  ms/batch 0.01729 | loss  5.48 | ppl   238.81\n",
      "epoch   7 |  1000/ 1452 batches |  ms/batch 0.01776 | loss  5.44 | ppl   230.90\n",
      "-------------------------------------------------------------------------------------\n",
      " end of epoch   7  time for epoch: 25.52  valid loss  5.44  valid ppl   231.56\n",
      "-------------------------------------------------------------------------------------\n",
      "epoch   8 |   500/ 1452 batches |  ms/batch 0.01771 | loss  5.40 | ppl   220.53\n",
      "epoch   8 |  1000/ 1452 batches |  ms/batch 0.01756 | loss  5.36 | ppl   213.29\n",
      "-------------------------------------------------------------------------------------\n",
      " end of epoch   8  time for epoch: 25.78  valid loss  5.39  valid ppl   219.43\n",
      "-------------------------------------------------------------------------------------\n",
      "epoch   9 |   500/ 1452 batches |  ms/batch 0.01812 | loss  5.32 | ppl   204.94\n",
      "epoch   9 |  1000/ 1452 batches |  ms/batch 0.01822 | loss  5.29 | ppl   198.64\n",
      "-------------------------------------------------------------------------------------\n",
      " end of epoch   9  time for epoch: 26.15  valid loss  5.34  valid ppl   209.20\n",
      "-------------------------------------------------------------------------------------\n",
      "epoch  10 |   500/ 1452 batches |  ms/batch 0.01762 | loss  5.26 | ppl   192.31\n",
      "epoch  10 |  1000/ 1452 batches |  ms/batch 0.01826 | loss  5.23 | ppl   186.07\n",
      "-------------------------------------------------------------------------------------\n",
      " end of epoch  10  time for epoch: 25.82  valid loss  5.30  valid ppl   200.78\n",
      "-------------------------------------------------------------------------------------\n",
      "epoch  11 |   500/ 1452 batches |  ms/batch 0.02429 | loss  5.20 | ppl   181.36\n",
      "epoch  11 |  1000/ 1452 batches |  ms/batch 0.02484 | loss  5.17 | ppl   175.23\n",
      "-------------------------------------------------------------------------------------\n",
      " end of epoch  11  time for epoch: 32.43  valid loss  5.26  valid ppl   193.44\n",
      "-------------------------------------------------------------------------------------\n",
      "epoch  12 |   500/ 1452 batches |  ms/batch 0.01772 | loss  5.15 | ppl   171.58\n",
      "epoch  12 |  1000/ 1452 batches |  ms/batch 0.01783 | loss  5.11 | ppl   166.08\n",
      "-------------------------------------------------------------------------------------\n",
      " end of epoch  12  time for epoch: 25.96  valid loss  5.23  valid ppl   187.30\n",
      "-------------------------------------------------------------------------------------\n",
      "epoch  13 |   500/ 1452 batches |  ms/batch 0.02093 | loss  5.10 | ppl   163.30\n",
      "epoch  13 |  1000/ 1452 batches |  ms/batch 0.02584 | loss  5.06 | ppl   157.83\n",
      "-------------------------------------------------------------------------------------\n",
      " end of epoch  13  time for epoch: 33.21  valid loss  5.20  valid ppl   182.04\n",
      "-------------------------------------------------------------------------------------\n",
      "epoch  14 |   500/ 1452 batches |  ms/batch 0.02111 | loss  5.05 | ppl   155.78\n",
      "epoch  14 |  1000/ 1452 batches |  ms/batch 0.02117 | loss  5.02 | ppl   150.70\n",
      "-------------------------------------------------------------------------------------\n",
      " end of epoch  14  time for epoch: 30.40  valid loss  5.18  valid ppl   177.33\n",
      "-------------------------------------------------------------------------------------\n",
      "epoch  15 |   500/ 1452 batches |  ms/batch 0.02487 | loss  5.00 | ppl   149.09\n",
      "epoch  15 |  1000/ 1452 batches |  ms/batch 0.02167 | loss  4.97 | ppl   144.38\n",
      "-------------------------------------------------------------------------------------\n",
      " end of epoch  15  time for epoch: 32.38  valid loss  5.15  valid ppl   173.27\n",
      "-------------------------------------------------------------------------------------\n",
      "epoch  16 |   500/ 1452 batches |  ms/batch 0.02079 | loss  4.96 | ppl   143.16\n",
      "epoch  16 |  1000/ 1452 batches |  ms/batch 0.02105 | loss  4.93 | ppl   138.65\n",
      "-------------------------------------------------------------------------------------\n",
      " end of epoch  16  time for epoch: 30.17  valid loss  5.13  valid ppl   169.71\n",
      "-------------------------------------------------------------------------------------\n",
      "epoch  17 |   500/ 1452 batches |  ms/batch 0.02656 | loss  4.92 | ppl   137.66\n",
      "epoch  17 |  1000/ 1452 batches |  ms/batch 0.02026 | loss  4.89 | ppl   133.35\n",
      "-------------------------------------------------------------------------------------\n",
      " end of epoch  17  time for epoch: 32.73  valid loss  5.11  valid ppl   166.46\n",
      "-------------------------------------------------------------------------------------\n",
      "epoch  18 |   500/ 1452 batches |  ms/batch 0.02026 | loss  4.89 | ppl   132.62\n",
      "epoch  18 |  1000/ 1452 batches |  ms/batch 0.02112 | loss  4.86 | ppl   128.42\n",
      "-------------------------------------------------------------------------------------\n",
      " end of epoch  18  time for epoch: 29.94  valid loss  5.10  valid ppl   163.50\n",
      "-------------------------------------------------------------------------------------\n",
      "epoch  19 |   500/ 1452 batches |  ms/batch 0.02000 | loss  4.85 | ppl   128.25\n",
      "epoch  19 |  1000/ 1452 batches |  ms/batch 0.02043 | loss  4.82 | ppl   124.02\n",
      "-------------------------------------------------------------------------------------\n",
      " end of epoch  19  time for epoch: 29.62  valid loss  5.08  valid ppl   160.90\n",
      "-------------------------------------------------------------------------------------\n",
      "epoch  20 |   500/ 1452 batches |  ms/batch 0.01905 | loss  4.82 | ppl   124.05\n",
      "epoch  20 |  1000/ 1452 batches |  ms/batch 0.02030 | loss  4.79 | ppl   119.91\n",
      "-------------------------------------------------------------------------------------\n",
      " end of epoch  20  time for epoch: 28.41  valid loss  5.07  valid ppl   158.74\n",
      "-------------------------------------------------------------------------------------\n"
     ]
    }
   ],
   "source": [
    "lstm_all_loss, lstm_all_times, lstm_val_losses, lstm_epoch_time = train_model(lstm_model, lr)"
   ]
  },
  {
   "cell_type": "code",
   "execution_count": 21,
   "metadata": {},
   "outputs": [
    {
     "data": {
      "text/plain": [
       "(5.018728330297377, 151.21888100143227)"
      ]
     },
     "execution_count": 21,
     "metadata": {},
     "output_type": "execute_result"
    }
   ],
   "source": [
    "test_loss = evaluation(lstm_model, test_data)\n",
    "test_loss, np.exp(test_loss)"
   ]
  },
  {
   "cell_type": "markdown",
   "metadata": {},
   "source": [
    "## TCN"
   ]
  },
  {
   "cell_type": "code",
   "execution_count": 22,
   "metadata": {},
   "outputs": [],
   "source": [
    "class TCN_Block(nn.Module):\n",
    "    '''\n",
    "    Residual блок для TCN\n",
    "    '''\n",
    "    def __init__(self, n_inputs, n_outputs, kernel_size, dilation, drop_rate=0.2):\n",
    "        '''\n",
    "        Параметры:\n",
    "        n_inputs: размерность входа\n",
    "        n_outputs: размерность выхода\n",
    "        kernel_size: размер фильтра\n",
    "        dilation: шаг для dilation свёртки\n",
    "        drop_rate: dropout rate \n",
    "        '''\n",
    "        super(TCN_Block, self).__init__()\n",
    "        padding = (kernel_size-1) * dilation\n",
    "        self.conv1 = nn.utils.weight_norm(nn.Conv1d(n_inputs, n_outputs, kernel_size,\n",
    "                                           padding=padding, dilation=dilation))\n",
    "        self.relu1 = nn.ReLU()\n",
    "        self.dropout1 = nn.Dropout(drop_rate)\n",
    "\n",
    "        self.conv2 = nn.utils.weight_norm(nn.Conv1d(n_outputs, n_outputs, kernel_size,\n",
    "                                           padding=padding, dilation=dilation))\n",
    "        self.relu2 = nn.ReLU()\n",
    "        self.dropout2 = nn.Dropout(drop_rate)\n",
    "        \n",
    "        # для residual connection между слоями с разными разменостями\n",
    "        self.proj = nn.Conv1d(n_inputs, n_outputs, 1) if n_inputs != n_outputs else None\n",
    "        self.relu = nn.ReLU()\n",
    "        self.init_weights()\n",
    "\n",
    "    def init_weights(self):\n",
    "        self.conv1.weight.data.normal_(0, 0.01)\n",
    "        self.conv2.weight.data.normal_(0, 0.01)\n",
    "        if self.proj is not None:\n",
    "            self.proj.weight.data.normal_(0, 0.01)\n",
    "\n",
    "    def forward(self, x):\n",
    "        # x размера (batch_size, embed_dim, sequence_len)\n",
    "        batch_size, _, sequence_len = x.shape\n",
    "        \n",
    "        out = self.conv1(x)[..., :sequence_len]\n",
    "        out = self.relu1(out)\n",
    "        out = self.dropout1(out)\n",
    "        \n",
    "        out = self.conv2(out)[..., :sequence_len]\n",
    "        out = self.relu2(out)\n",
    "        out = self.dropout2(out)\n",
    "        \n",
    "        res = x if self.proj is None else self.proj(x)\n",
    "        return self.relu(out + res)"
   ]
  },
  {
   "cell_type": "code",
   "execution_count": 23,
   "metadata": {},
   "outputs": [],
   "source": [
    "class TCN(nn.Module):\n",
    "\n",
    "    def __init__(self, vocab_size, embed_dim=128, channels = [400] * 3, kernel_size=2, drop_rate=0.3):\n",
    "        super(TCN, self).__init__()\n",
    "        self.embeddings = nn.Embedding(vocab_size, embed_dim)\n",
    "        \n",
    "        self.layers = nn.ModuleList()\n",
    "        in_channels = embed_dim \n",
    "        \n",
    "        # определяем блоки \n",
    "        for i in range(len(channels)):\n",
    "            dilation_size = 2 ** i\n",
    "            out_channels = channels[i]\n",
    "            self.layers.append(TCN_Block(in_channels, out_channels, kernel_size,\n",
    "                                    dilation=dilation_size, drop_rate=drop_rate))\n",
    "            in_channels = out_channels\n",
    "\n",
    "        self.fc = nn.Linear(in_channels, vocab_size)\n",
    "        self.init_weights()\n",
    "\n",
    "    def init_weights(self):\n",
    "        self.embeddings.weight.data.normal_(0, 0.01)\n",
    "        self.fc.bias.data.fill_(0)\n",
    "        self.fc.weight.data.normal_(0, 0.01)\n",
    "\n",
    "    def forward(self, x):\n",
    "        out = self.embeddings(x).transpose(1, 2)\n",
    "        \n",
    "        for layer in self.layers:\n",
    "            out = layer(out)\n",
    "            \n",
    "        out = out.transpose(1, 2)\n",
    "        out = self.fc(out)\n",
    "        return out.contiguous()"
   ]
  },
  {
   "cell_type": "code",
   "execution_count": 24,
   "metadata": {
    "scrolled": true
   },
   "outputs": [
    {
     "data": {
      "text/plain": [
       "7049329"
      ]
     },
     "execution_count": 24,
     "metadata": {},
     "output_type": "execute_result"
    }
   ],
   "source": [
    "tcn_model = TCN(vocab_size).cuda()\n",
    "optimizer = optim.Adam(tcn_model.parameters(), lr=lr) \n",
    "count_params(tcn_model)"
   ]
  },
  {
   "cell_type": "code",
   "execution_count": 25,
   "metadata": {
    "scrolled": true
   },
   "outputs": [
    {
     "name": "stdout",
     "output_type": "stream",
     "text": [
      "epoch   1 |   500/ 1452 batches |  ms/batch 0.01827 | loss  6.75 | ppl   852.81\n",
      "epoch   1 |  1000/ 1452 batches |  ms/batch 0.01747 | loss  6.31 | ppl   551.12\n",
      "-------------------------------------------------------------------------------------\n",
      " end of epoch   1  time for epoch: 25.76  valid loss  6.09  valid ppl   442.35\n",
      "-------------------------------------------------------------------------------------\n",
      "epoch   2 |   500/ 1452 batches |  ms/batch 0.01944 | loss  6.01 | ppl   406.17\n",
      "epoch   2 |  1000/ 1452 batches |  ms/batch 0.01730 | loss  5.90 | ppl   365.70\n",
      "-------------------------------------------------------------------------------------\n",
      " end of epoch   2  time for epoch: 26.15  valid loss  5.83  valid ppl   338.73\n",
      "-------------------------------------------------------------------------------------\n",
      "epoch   3 |   500/ 1452 batches |  ms/batch 0.01804 | loss  5.73 | ppl   308.63\n",
      "epoch   3 |  1000/ 1452 batches |  ms/batch 0.01959 | loss  5.65 | ppl   283.92\n",
      "-------------------------------------------------------------------------------------\n",
      " end of epoch   3  time for epoch: 26.70  valid loss  5.64  valid ppl   282.34\n",
      "-------------------------------------------------------------------------------------\n",
      "epoch   4 |   500/ 1452 batches |  ms/batch 0.01767 | loss  5.53 | ppl   253.05\n",
      "epoch   4 |  1000/ 1452 batches |  ms/batch 0.01876 | loss  5.47 | ppl   238.23\n",
      "-------------------------------------------------------------------------------------\n",
      " end of epoch   4  time for epoch: 26.74  valid loss  5.54  valid ppl   254.55\n",
      "-------------------------------------------------------------------------------------\n",
      "epoch   5 |   500/ 1452 batches |  ms/batch 0.01790 | loss  5.39 | ppl   219.50\n",
      "epoch   5 |  1000/ 1452 batches |  ms/batch 0.01725 | loss  5.34 | ppl   208.55\n",
      "-------------------------------------------------------------------------------------\n",
      " end of epoch   5  time for epoch: 25.79  valid loss  5.47  valid ppl   236.44\n",
      "-------------------------------------------------------------------------------------\n",
      "epoch   6 |   500/ 1452 batches |  ms/batch 0.01782 | loss  5.27 | ppl   194.58\n",
      "epoch   6 |  1000/ 1452 batches |  ms/batch 0.01841 | loss  5.23 | ppl   186.17\n",
      "-------------------------------------------------------------------------------------\n",
      " end of epoch   6  time for epoch: 26.46  valid loss  5.41  valid ppl   223.32\n",
      "-------------------------------------------------------------------------------------\n",
      "epoch   7 |   500/ 1452 batches |  ms/batch 0.01849 | loss  5.17 | ppl   175.66\n",
      "epoch   7 |  1000/ 1452 batches |  ms/batch 0.01809 | loss  5.13 | ppl   168.48\n",
      "-------------------------------------------------------------------------------------\n",
      " end of epoch   7  time for epoch: 26.47  valid loss  5.37  valid ppl   214.30\n",
      "-------------------------------------------------------------------------------------\n",
      "epoch   8 |   500/ 1452 batches |  ms/batch 0.01775 | loss  5.08 | ppl   160.59\n",
      "epoch   8 |  1000/ 1452 batches |  ms/batch 0.01863 | loss  5.04 | ppl   154.66\n",
      "-------------------------------------------------------------------------------------\n",
      " end of epoch   8  time for epoch: 26.32  valid loss  5.34  valid ppl   208.02\n",
      "-------------------------------------------------------------------------------------\n",
      "epoch   9 |   500/ 1452 batches |  ms/batch 0.01792 | loss  5.00 | ppl   148.63\n",
      "epoch   9 |  1000/ 1452 batches |  ms/batch 0.01734 | loss  4.96 | ppl   143.23\n",
      "-------------------------------------------------------------------------------------\n",
      " end of epoch   9  time for epoch: 25.40  valid loss  5.31  valid ppl   203.35\n",
      "-------------------------------------------------------------------------------------\n",
      "epoch  10 |   500/ 1452 batches |  ms/batch 0.01681 | loss  4.93 | ppl   138.47\n",
      "epoch  10 |  1000/ 1452 batches |  ms/batch 0.01729 | loss  4.90 | ppl   133.69\n",
      "-------------------------------------------------------------------------------------\n",
      " end of epoch  10  time for epoch: 24.82  valid loss  5.30  valid ppl   200.76\n",
      "-------------------------------------------------------------------------------------\n",
      "epoch  11 |   500/ 1452 batches |  ms/batch 0.01706 | loss  4.87 | ppl   130.14\n",
      "epoch  11 |  1000/ 1452 batches |  ms/batch 0.01668 | loss  4.83 | ppl   125.47\n",
      "-------------------------------------------------------------------------------------\n",
      " end of epoch  11  time for epoch: 24.37  valid loss  5.29  valid ppl   198.60\n",
      "-------------------------------------------------------------------------------------\n",
      "epoch  12 |   500/ 1452 batches |  ms/batch 0.01708 | loss  4.81 | ppl   122.49\n",
      "epoch  12 |  1000/ 1452 batches |  ms/batch 0.01689 | loss  4.77 | ppl   118.25\n",
      "-------------------------------------------------------------------------------------\n",
      " end of epoch  12  time for epoch: 24.60  valid loss  5.29  valid ppl   197.91\n",
      "-------------------------------------------------------------------------------------\n",
      "epoch  13 |   500/ 1452 batches |  ms/batch 0.01759 | loss  4.75 | ppl   116.16\n",
      "epoch  13 |  1000/ 1452 batches |  ms/batch 0.01745 | loss  4.72 | ppl   112.02\n",
      "-------------------------------------------------------------------------------------\n",
      " end of epoch  13  time for epoch: 25.70  valid loss  5.28  valid ppl   196.90\n",
      "-------------------------------------------------------------------------------------\n",
      "epoch  14 |   500/ 1452 batches |  ms/batch 0.02034 | loss  4.70 | ppl   110.39\n",
      "epoch  14 |  1000/ 1452 batches |  ms/batch 0.01710 | loss  4.67 | ppl   106.57\n",
      "-------------------------------------------------------------------------------------\n",
      " end of epoch  14  time for epoch: 26.78  valid loss  5.28  valid ppl   197.23\n",
      "-------------------------------------------------------------------------------------\n",
      "epoch  15 |   500/ 1452 batches |  ms/batch 0.01726 | loss  4.66 | ppl   105.21\n",
      "epoch  15 |  1000/ 1452 batches |  ms/batch 0.01736 | loss  4.62 | ppl   101.46\n",
      "-------------------------------------------------------------------------------------\n",
      " end of epoch  15  time for epoch: 25.19  valid loss  5.29  valid ppl   198.33\n",
      "-------------------------------------------------------------------------------------\n",
      "epoch  16 |   500/ 1452 batches |  ms/batch 0.01757 | loss  4.64 | ppl   103.91\n",
      "epoch  16 |  1000/ 1452 batches |  ms/batch 0.01896 | loss  4.57 | ppl    96.56\n",
      "-------------------------------------------------------------------------------------\n",
      " end of epoch  16  time for epoch: 26.73  valid loss  5.28  valid ppl   196.61\n",
      "-------------------------------------------------------------------------------------\n",
      "epoch  17 |   500/ 1452 batches |  ms/batch 0.01783 | loss  4.61 | ppl   100.94\n",
      "epoch  17 |  1000/ 1452 batches |  ms/batch 0.01704 | loss  4.55 | ppl    95.01\n",
      "-------------------------------------------------------------------------------------\n",
      " end of epoch  17  time for epoch: 25.12  valid loss  5.28  valid ppl   196.67\n",
      "-------------------------------------------------------------------------------------\n",
      "epoch  18 |   500/ 1452 batches |  ms/batch 0.01721 | loss  4.60 | ppl    99.16\n",
      "epoch  18 |  1000/ 1452 batches |  ms/batch 0.01696 | loss  4.54 | ppl    93.71\n",
      "-------------------------------------------------------------------------------------\n",
      " end of epoch  18  time for epoch: 24.97  valid loss  5.29  valid ppl   197.71\n",
      "-------------------------------------------------------------------------------------\n",
      "epoch  19 |   500/ 1452 batches |  ms/batch 0.01800 | loss  4.64 | ppl   103.39\n",
      "epoch  19 |  1000/ 1452 batches |  ms/batch 0.01926 | loss  4.57 | ppl    96.70\n",
      "-------------------------------------------------------------------------------------\n",
      " end of epoch  19  time for epoch: 26.24  valid loss  5.25  valid ppl   191.43\n",
      "-------------------------------------------------------------------------------------\n",
      "epoch  20 |   500/ 1452 batches |  ms/batch 0.01756 | loss  4.62 | ppl   101.88\n",
      "epoch  20 |  1000/ 1452 batches |  ms/batch 0.01754 | loss  4.56 | ppl    95.81\n",
      "-------------------------------------------------------------------------------------\n",
      " end of epoch  20  time for epoch: 25.51  valid loss  5.25  valid ppl   191.12\n",
      "-------------------------------------------------------------------------------------\n"
     ]
    }
   ],
   "source": [
    "tcn_all_loss, tcn_all_times, tcn_val_losses, tcn_epoch_time = train_model(tcn_model, lr)"
   ]
  },
  {
   "cell_type": "code",
   "execution_count": 26,
   "metadata": {},
   "outputs": [
    {
     "data": {
      "text/plain": [
       "(5.110466355258978, 165.74763413337584)"
      ]
     },
     "execution_count": 26,
     "metadata": {},
     "output_type": "execute_result"
    }
   ],
   "source": [
    "test_loss = evaluation(tcn_model, test_data)\n",
    "test_loss, np.exp(test_loss)"
   ]
  },
  {
   "cell_type": "markdown",
   "metadata": {},
   "source": [
    "## Генерация текста"
   ]
  },
  {
   "cell_type": "markdown",
   "metadata": {},
   "source": [
    "Посмотрим, что научились генерировать модели. Зададим им первое слово и посмотрим на выход длины 100."
   ]
  },
  {
   "cell_type": "code",
   "execution_count": 27,
   "metadata": {},
   "outputs": [
    {
     "data": {
      "text/plain": [
       "3327"
      ]
     },
     "execution_count": 27,
     "metadata": {},
     "output_type": "execute_result"
    }
   ],
   "source": [
    "# рандомный индекс слова из словаря\n",
    "starting = np.random.randint(0, vocab_size)\n",
    "starting "
   ]
  },
  {
   "cell_type": "code",
   "execution_count": 28,
   "metadata": {},
   "outputs": [],
   "source": [
    "def generate(starting, model, seq_len=100):\n",
    "    '''\n",
    "    По заданному слову генерирует модель последовательность.\n",
    "    Параметры:\n",
    "    starting: индекс первого слова в словаре\n",
    "    model: модель\n",
    "    seq_len: длина последовательности, которую надо сгенерировать\n",
    "    '''\n",
    "    model.eval()\n",
    "    ntokens = len(corpus.dictionary)\n",
    "    res = ''\n",
    "    x = Variable(torch.Tensor([[starting ]])).cuda().long()\n",
    "    if model.__class__.__name__ == 'LSTM':\n",
    "        h = model.init_hidden(batch_size)\n",
    "    for i in range(seq_len):\n",
    "        if model.__class__.__name__ == 'LSTM':\n",
    "            # сохраняем в отдельную переменную, чтобы не пересчитывать всю историю\n",
    "            h = (Variable(h[0].data), Variable(h[1].data))\n",
    "            output, h = model(data, h)\n",
    "        else:\n",
    "            output = model(x)\n",
    "            \n",
    "        word_weights = output.squeeze().exp().cpu()\n",
    "        word_idx = torch.multinomial(word_weights, 1)[0].data[0]\n",
    "        x.fill_(word_idx)\n",
    "        word = corpus.dictionary.idx2word[word_idx]\n",
    "\n",
    "        res += word + ('\\n' if i % 20 == 19 else ' ')\n",
    "    return res"
   ]
  },
  {
   "cell_type": "code",
   "execution_count": 29,
   "metadata": {},
   "outputs": [
    {
     "data": {
      "text/plain": [
       "\"as declaring a executive 's his <unk> in the problem said research also drexel burnham marine <eos> the N N\\nincluding to net almost their policies with the u.s. navigation mixte in figure <eos> the authors on its $ N\\nwill see mr. zoete advertising money-market industry said <eos> as laying orders <eos> with it and more on profitability 's\\n<unk> off further states of N has already predict the restriction largely mr. environment says in that include much than\\nanalysts products in <eos> genetics co. lawsuit a london than <unk> to prove by average half not a united canada\\n\""
      ]
     },
     "execution_count": 29,
     "metadata": {},
     "output_type": "execute_result"
    }
   ],
   "source": [
    "start_time = time()\n",
    "gated_res = generate(starting, gated_model)\n",
    "gated_gen_time = time() - start_time \n",
    "gated_res"
   ]
  },
  {
   "cell_type": "code",
   "execution_count": 30,
   "metadata": {},
   "outputs": [
    {
     "data": {
      "text/plain": [
       "'tesoro programs confirmation clients treasurer financial district mr. in surveyed N handling N america N downright have the iron directors\\nplants in motor trucks awarded ratio products was manufacturers financial la mulford instruments club growth announced operations <unk> was obvious\\ntax to development using mich. ill. casino go s&l narrowly <unk> reported company rich paper deregulation divisive cash financing community\\nN asian face-to-face holdings maker experiments instruments nature rich to tracks by spring companies ceiling u.s. settlements prosecutors pete the\\nprograms longer-term downturn at software in inc. issues energy to analyst which risk domestic they lee drop expects in chief\\n'"
      ]
     },
     "execution_count": 30,
     "metadata": {},
     "output_type": "execute_result"
    }
   ],
   "source": [
    "start_time = time()\n",
    "lstm_res = generate(starting, lstm_model)\n",
    "lstm_gen_time = time() - start_time \n",
    "lstm_res"
   ]
  },
  {
   "cell_type": "code",
   "execution_count": 31,
   "metadata": {},
   "outputs": [
    {
     "data": {
      "text/plain": [
       "'i risk of waertsilae graphics background a real-estate versions of advertisers resulting to british office up your color of evans\\nof sony had <unk> when b. altman co. up from the maidenform <eos> demand at $ N francs $ N\\nN N N N million shares give putting the pension bonds said that was primarily back <eos> critics is expected\\nto <unk> island and <unk> green peter <unk> <eos> at every policy and bruce bernstein for conditional particularly down nervous\\nwas rejected N according to answer <eos> japanese diabetics were being made by my research in recent shares ltd. got\\n'"
      ]
     },
     "execution_count": 31,
     "metadata": {},
     "output_type": "execute_result"
    }
   ],
   "source": [
    "start_time = time()\n",
    "tcn_res = generate(starting, tcn_model)\n",
    "tcn_gen_time = time() - start_time \n",
    "tcn_res"
   ]
  },
  {
   "cell_type": "code",
   "execution_count": 32,
   "metadata": {},
   "outputs": [
    {
     "data": {
      "text/plain": [
       "(0.2595248222351074, 51.49463939666748, 0.35263633728027344)"
      ]
     },
     "execution_count": 32,
     "metadata": {},
     "output_type": "execute_result"
    }
   ],
   "source": [
    "gated_gen_time, lstm_gen_time, tcn_gen_time"
   ]
  },
  {
   "cell_type": "markdown",
   "metadata": {},
   "source": [
    "## Сравнение моделей"
   ]
  },
  {
   "cell_type": "markdown",
   "metadata": {},
   "source": [
    "В сгенерированных последовательностях мало смысла, но отдельные правдоподобные фразы все модели научились генерировать. LSTM потребовалось сильно больше времени на генерацию, чем TCN и GatedCNN."
   ]
  },
  {
   "cell_type": "markdown",
   "metadata": {},
   "source": [
    "Качество на тесте лучше всего у LSTM и хуже всего у GatedCNN. Это соотносится с тем, что описано в статьях: GatedCNN переобучается, а TCN немного уступает по качеству LSTM на маленьком датасете. \n",
    "\n",
    "Качество моделей на валидации имеет то же соотношение:"
   ]
  },
  {
   "cell_type": "code",
   "execution_count": 33,
   "metadata": {},
   "outputs": [
    {
     "data": {
      "image/png": "[encoded data removed]",
      "text/plain": [
       "<Figure size 432x288 with 1 Axes>"
      ]
     },
     "metadata": {},
     "output_type": "display_data"
    }
   ],
   "source": [
    "plt.plot(np.exp(gated_val_losses), marker='o', label =\"GatedCNN\")\n",
    "plt.plot(np.exp(tcn_val_losses), marker='o', label =\"TCN\")\n",
    "plt.plot(np.exp(lstm_val_losses), marker='o', label =\"LSTM\")\n",
    "plt.xlabel('эпохи')\n",
    "plt.ylabel('перплексия')\n",
    "plt.title('Качество на валидации, len=20')\n",
    "plt.legend()\n",
    "plt.show()"
   ]
  },
  {
   "cell_type": "markdown",
   "metadata": {},
   "source": [
    "Сравним время обучения:"
   ]
  },
  {
   "cell_type": "code",
   "execution_count": 34,
   "metadata": {},
   "outputs": [
    {
     "data": {
      "image/png": "[encoded data removed]",
      "text/plain": [
       "<Figure size 432x288 with 1 Axes>"
      ]
     },
     "metadata": {},
     "output_type": "display_data"
    }
   ],
   "source": [
    "plt.plot(gated_epoch_time, marker='o', label =\"Gated\")\n",
    "plt.plot(tcn_epoch_time, marker='o', label =\"TCN\")\n",
    "plt.plot(lstm_epoch_time, marker='o', label =\"LSTM\")\n",
    "plt.xlabel('эпохи')\n",
    "plt.ylabel('время (сек)')\n",
    "plt.title('Время работы, len=20')\n",
    "plt.legend()\n",
    "plt.show()"
   ]
  },
  {
   "cell_type": "markdown",
   "metadata": {},
   "source": [
    "Для более длинных последовательностей:"
   ]
  },
  {
   "cell_type": "code",
   "execution_count": 33,
   "metadata": {},
   "outputs": [
    {
     "data": {
      "image/png": "[encoded data removed]",
      "text/plain": [
       "<Figure size 432x288 with 1 Axes>"
      ]
     },
     "metadata": {},
     "output_type": "display_data"
    }
   ],
   "source": [
    "plt.plot(np.exp(gated_val_losses), marker='o', label =\"GatedCNN\")\n",
    "plt.plot(np.exp(tcn_val_losses), marker='o', label =\"TCN\")\n",
    "plt.plot(np.exp(lstm_val_losses), marker='o', label =\"LSTM\")\n",
    "plt.xlabel('эпохи')\n",
    "plt.ylabel('перплексия')\n",
    "plt.title('Качество на валидации, len=80')\n",
    "plt.legend()\n",
    "plt.show()"
   ]
  },
  {
   "cell_type": "code",
   "execution_count": 34,
   "metadata": {},
   "outputs": [
    {
     "data": {
      "image/png": "[encoded data removed]",
      "text/plain": [
       "<Figure size 432x288 with 1 Axes>"
      ]
     },
     "metadata": {},
     "output_type": "display_data"
    }
   ],
   "source": [
    "plt.plot(gated_epoch_time, marker='o', label =\"Gated\")\n",
    "plt.plot(tcn_epoch_time, marker='o', label =\"TCN\")\n",
    "plt.plot(lstm_epoch_time, marker='o', label =\"LSTM\")\n",
    "plt.xlabel('эпохи')\n",
    "plt.ylabel('время (сек)')\n",
    "plt.title('Время работы, len=80')\n",
    "plt.legend()\n",
    "plt.show()"
   ]
  },
  {
   "cell_type": "markdown",
   "metadata": {},
   "source": [
    "Самой быстрой моделью оказалася GatedCNN, правда, в ущерб качеству. TCN для длинных последовательностей работает быстрее, чем LSTM, однако на более коротких уступает в скорости и в качестве."
   ]
  }
 ],
 "metadata": {
  "kernelspec": {
   "display_name": "Python 3",
   "language": "python",
   "name": "python3"
  },
  "language_info": {
   "codemirror_mode": {
    "name": "ipython",
    "version": 3
   },
   "file_extension": ".py",
   "mimetype": "text/x-python",
   "name": "python",
   "nbconvert_exporter": "python",
   "pygments_lexer": "ipython3",
   "version": "3.5.2"
  }
 },
 "nbformat": 4,
 "nbformat_minor": 2
}
